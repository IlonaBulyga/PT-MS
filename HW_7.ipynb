{
  "metadata": {
    "kernelspec": {
      "name": "python",
      "display_name": "Python (Pyodide)",
      "language": "python"
    },
    "language_info": {
      "codemirror_mode": {
        "name": "python",
        "version": 3
      },
      "file_extension": ".py",
      "mimetype": "text/x-python",
      "name": "python",
      "nbconvert_exporter": "python",
      "pygments_lexer": "ipython3",
      "version": "3.8"
    }
  },
  "nbformat_minor": 4,
  "nbformat": 4,
  "cells": [
    {
      "cell_type": "code",
      "source": "import numpy as np\n# import scipy.stats as stats\nfrom scipy import stats",
      "metadata": {
        "trusted": true
      },
      "outputs": [],
      "execution_count": 3
    },
    {
      "cell_type": "markdown",
      "source": "### Задача 1.\nДаны две независимые выборки. Не соблюдается условие нормальности\n<br>x1 380, 420, 290\n<br>y1 140, 360, 200, 900\n<br>Сделайте вывод по результатам, полученным с помощью функции",
      "metadata": {}
    },
    {
      "cell_type": "code",
      "source": "x = np.array([380, 420, 290])\ny = np.array([140, 360, 200, 900])\nstats.mannwhitneyu(x, y)",
      "metadata": {
        "trusted": true
      },
      "outputs": [
        {
          "execution_count": 4,
          "output_type": "execute_result",
          "data": {
            "text/plain": "MannwhitneyuResult(statistic=8.0, pvalue=0.6285714285714286)"
          },
          "metadata": {}
        }
      ],
      "execution_count": 4
    },
    {
      "cell_type": "markdown",
      "source": "**p-value > 0.05 -> нет статистически значимых различий между выборками**",
      "metadata": {}
    },
    {
      "cell_type": "markdown",
      "source": "### Задача 2.\nИсследовалось влияние препарата на уровень давления пациентов. Сначала\nизмерялось давление до приема препарата, потом через 10 минут и через 30\nминут. Есть ли статистически значимые различия?\n<br>1е измерение до приема препарата: 150, 160, 165, 145, 155\n<br>2е измерение через 10 минут: 140, 155, 150, 130, 135\n<br>3е измерение через 30 минут: 130, 130, 120, 130, 125",
      "metadata": {}
    },
    {
      "cell_type": "code",
      "source": "A = np.array([150, 160, 165, 145, 155])\nB = np.array([140, 155, 150, 130, 135])\nC = np.array([130, 130, 120, 130, 125])\nstats.friedmanchisquare(A, B, C)",
      "metadata": {
        "trusted": true
      },
      "outputs": [
        {
          "execution_count": 5,
          "output_type": "execute_result",
          "data": {
            "text/plain": "FriedmanchisquareResult(statistic=9.578947368421062, pvalue=0.00831683351100441)"
          },
          "metadata": {}
        }
      ],
      "execution_count": 5
    },
    {
      "cell_type": "markdown",
      "source": "**p-value < 0.05 -> есть статистически значимые различия между выборками**",
      "metadata": {}
    },
    {
      "cell_type": "markdown",
      "source": "### Задача 3.\nСравните 1 и 2 е измерения, предполагая, что 3го измерения через 30 минут не\nбыло.",
      "metadata": {}
    },
    {
      "cell_type": "code",
      "source": "A = np.array([150, 160, 165, 145, 155])\nB = np.array([140, 155, 150, 130, 135])\nstats.wilcoxon(A, B)",
      "metadata": {
        "trusted": true
      },
      "outputs": [
        {
          "execution_count": 6,
          "output_type": "execute_result",
          "data": {
            "text/plain": "WilcoxonResult(statistic=0.0, pvalue=0.0625)"
          },
          "metadata": {}
        }
      ],
      "execution_count": 6
    },
    {
      "cell_type": "markdown",
      "source": "**p-value > 0.05 -> нет статистически значимых различий между выборками**",
      "metadata": {}
    },
    {
      "cell_type": "markdown",
      "source": "### Задача 4.\nДаны 3 группы учеников плавания.\n<br>В 1 группе время на дистанцию 50 м составляют:\n<br>56, 60, 62, 55, 71, 67, 59, 58, 64, 67\n<br>Вторая группа : 57, 58, 69, 48, 72, 70, 68, 71, 50, 53\n<br>Третья группа: 57, 67, 49, 48, 47, 55, 66, 51, 54",
      "metadata": {}
    },
    {
      "cell_type": "code",
      "source": "gr1 = np.array([56, 60, 62, 55, 71, 67, 59, 58, 64, 67])\ngr2 = np.array([57, 58, 69, 48, 72, 70, 68, 71, 50, 53])\ngr3 = np.array([57, 67, 49, 48, 47, 55, 66, 51, 54])\nstats.kruskal(gr1, gr2, gr3)",
      "metadata": {
        "trusted": true
      },
      "outputs": [
        {
          "execution_count": 7,
          "output_type": "execute_result",
          "data": {
            "text/plain": "KruskalResult(statistic=5.465564058257224, pvalue=0.0650380998590494)"
          },
          "metadata": {}
        }
      ],
      "execution_count": 7
    },
    {
      "cell_type": "markdown",
      "source": "**p-value > 0.05 -> нет статистически значимых различий между выборками**",
      "metadata": {}
    },
    {
      "cell_type": "markdown",
      "source": "### Задача 5.\nЗаявляется, что партия изготавливается со средним арифметическим 2,5 см.\n<br>Проверить данную гипотезу, если известно, что размеры изделий подчинены\nнормальному закону распределения. Объем выборки 10, уровень статистической\nзначимости 5%\n<br>2.51, 2.35, 2.74, 2.56, 2.40, 2.36, 2.65, 2.7, 2.67, 2.34",
      "metadata": {}
    },
    {
      "cell_type": "code",
      "source": "x = np.array([2.51, 2.35, 2.74, 2.56, 2.40, 2.36, 2.65, 2.7, 2.67, 2.34])\n# H0: mu = 2.5\n# H1: mu != 2.5\n# t_n = (x_mean - mu) / (sigma / sqrt (n))\nmu = 2.5\nn = len(x)\nx_mean = np.mean(x)\nsigma = np.std(x, ddof = 1)\nprint(f'n = {n}\\n' f'x_mean = {x_mean:2f}\\n' f'sigma = {sigma:2f}')\nt_n = (x_mean - mu) / (sigma / np.sqrt (n))\nalpha = 0.05\nt_kr = stats.t.ppf(1 - alpha / 2, df = n - 1)\nprint(f't_n = {t_n:3f}\\n' f't_kr = {t_kr:3f}')",
      "metadata": {
        "trusted": true
      },
      "outputs": [
        {
          "name": "stdout",
          "text": "n = 10\nx_mean = 2.528000\nsigma = 0.157254\nt_n = 0.563061\nt_kr = 2.262157\n",
          "output_type": "stream"
        }
      ],
      "execution_count": 21
    },
    {
      "cell_type": "markdown",
      "source": "**t_n < t_kr -> нулевая гипотеза верна**",
      "metadata": {}
    },
    {
      "cell_type": "code",
      "source": "",
      "metadata": {
        "trusted": true
      },
      "outputs": [],
      "execution_count": null
    }
  ]
}