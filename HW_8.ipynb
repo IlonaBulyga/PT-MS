{
  "metadata": {
    "kernelspec": {
      "name": "python",
      "display_name": "Python (Pyodide)",
      "language": "python"
    },
    "language_info": {
      "codemirror_mode": {
        "name": "python",
        "version": 3
      },
      "file_extension": ".py",
      "mimetype": "text/x-python",
      "name": "python",
      "nbconvert_exporter": "python",
      "pygments_lexer": "ipython3",
      "version": "3.8"
    }
  },
  "nbformat_minor": 4,
  "nbformat": 4,
  "cells": [
    {
      "cell_type": "code",
      "source": "import matplotlib.pyplot as plt\nimport numpy as np\nimport pandas as pd\nimport scipy.stats as stats",
      "metadata": {
        "trusted": true
      },
      "outputs": [
        {
          "name": "stderr",
          "text": "<ipython-input-1-f9810c7d9099>:3: DeprecationWarning: \nPyarrow will become a required dependency of pandas in the next major release of pandas (pandas 3.0),\n(to allow more performant data types, such as the Arrow string type, and better interoperability with other libraries)\nbut was not found to be installed on your system.\nIf this would cause problems for you,\nplease provide us feedback at https://github.com/pandas-dev/pandas/issues/54466\n        \n  import pandas as pd\n",
          "output_type": "stream"
        }
      ],
      "execution_count": 1
    },
    {
      "cell_type": "markdown",
      "source": "#### Задание 1.\n<br>Даны значения величины заработной платы заемщиков банка (zp) и значения их\nповеденческого кредитного скоринга (ks): zp = [35, 45, 190, 200, 40, 70, 54, 150, 120, 110], ks\n= [401, 574, 874, 919, 459, 739, 653, 902, 746, 832]. Найдите ковариацию этих двух величин с\nпомощью элементарных действий, а затем с помощью функции cov из numpy Полученные\nзначения должны быть равны. Найдите коэффициент корреляции Пирсона с помощью\nковариации и среднеквадратичных отклонений двух признаков, а затем с\nиспользованием функций из библиотек numpy и pandas.\n",
      "metadata": {}
    },
    {
      "cell_type": "code",
      "source": "zp = [35, 45, 190, 200, 40, 70, 54, 150, 120, 110]\nks = [401, 574, 874, 919, 459, 739, 653, 902, 746, 832]",
      "metadata": {
        "trusted": true
      },
      "outputs": [],
      "execution_count": 2
    },
    {
      "cell_type": "code",
      "source": "cov = np.sum((zp - np.mean(zp)) * (ks - np.mean(ks))) / (len(zp) - 1)\nprint(f'cov1 = {cov}')",
      "metadata": {
        "trusted": true
      },
      "outputs": [
        {
          "name": "stdout",
          "text": "cov1 = 10175.37777777778\n",
          "output_type": "stream"
        }
      ],
      "execution_count": 13
    },
    {
      "cell_type": "code",
      "source": "print(f'cov2 = {np.cov(zp, ks)[0, 1]}')",
      "metadata": {
        "trusted": true
      },
      "outputs": [
        {
          "name": "stdout",
          "text": "cov2 = 10175.377777777776\n",
          "output_type": "stream"
        }
      ],
      "execution_count": 14
    },
    {
      "cell_type": "code",
      "source": "cor = cov / (np.std(zp, ddof = 1) * np.std(ks, ddof = 1))\nprint(f'cor1 = {cor}')",
      "metadata": {
        "trusted": true
      },
      "outputs": [
        {
          "name": "stdout",
          "text": "cor1 = 0.8874900920739164\n",
          "output_type": "stream"
        }
      ],
      "execution_count": 15
    },
    {
      "cell_type": "code",
      "source": "print(f'cor2 = {np.corrcoef(zp, ks)[0, 1]}')",
      "metadata": {
        "trusted": true
      },
      "outputs": [
        {
          "name": "stdout",
          "text": "cor2 = 0.8874900920739159\n",
          "output_type": "stream"
        }
      ],
      "execution_count": 16
    },
    {
      "cell_type": "code",
      "source": "print(f'cor3 = {pd.Series(zp).corr(pd.Series(ks))}')",
      "metadata": {
        "trusted": true
      },
      "outputs": [
        {
          "name": "stdout",
          "text": "cor3 = 0.8874900920739159\n",
          "output_type": "stream"
        }
      ],
      "execution_count": 17
    },
    {
      "cell_type": "markdown",
      "source": "#### Задача 2.\n<br>Измерены значения IQ выборки студентов, обучающихся в местных технических вузах:\n131, 125, 115, 122, 131, 115, 107, 99, 125, 111. Известно, что в генеральной\nсовокупности IQ распределен нормально. Найдите доверительный интервал для\nматематического ожидания с надежностью 0.95.",
      "metadata": {}
    },
    {
      "cell_type": "code",
      "source": "x = [131, 125, 115, 122, 131, 115, 107, 99, 125, 111]\nn = len(x)\nmean_x = np.mean(x)\nstd_x = np.std(x, ddof = 1)\nalpha = 0.05\nt_cr = stats.t.ppf(1 - alpha /2, df = n -1)\nsd = t_cr * (std_x / np.sqrt(n))\nleft = mean_x - sd\nright = mean_x + sd\nprint(f'Interval = ({left: .3f};{right: .3f})')",
      "metadata": {
        "trusted": true
      },
      "outputs": [
        {
          "name": "stdout",
          "text": "Interval = ( 110.556; 125.644)\n",
          "output_type": "stream"
        }
      ],
      "execution_count": 23
    },
    {
      "cell_type": "markdown",
      "source": "#### Задача 3.\n<br>Известно, что рост футболистов в сборной распределен нормально с дисперсией\nгенеральной совокупности, равной 25 кв.см. Объем выборки равен 27, среднее\nвыборочное составляет 174.2. Найдите доверительный интервал для математического\nожидания с надежностью 0.95.",
      "metadata": {}
    },
    {
      "cell_type": "code",
      "source": "n = 27\nsigma = np.sqrt(25)\nmean = 174.2\nalpha = 0.05\nz_cr = stats.norm.ppf(1 - alpha / 2)\nsd = z_cr * (sigma / np.sqrt(n))\nleft = mean - sd\nright = mean + sd\nprint(f'Interval = ({left: .3f};{right: .3f})')",
      "metadata": {
        "trusted": true
      },
      "outputs": [
        {
          "name": "stdout",
          "text": "Interval = ( 172.314; 176.086)\n",
          "output_type": "stream"
        }
      ],
      "execution_count": 24
    },
    {
      "cell_type": "code",
      "source": "",
      "metadata": {
        "trusted": true
      },
      "outputs": [],
      "execution_count": null
    }
  ]
}