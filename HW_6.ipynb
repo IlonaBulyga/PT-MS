{
  "metadata": {
    "kernelspec": {
      "name": "python",
      "display_name": "Python (Pyodide)",
      "language": "python"
    },
    "language_info": {
      "codemirror_mode": {
        "name": "python",
        "version": 3
      },
      "file_extension": ".py",
      "mimetype": "text/x-python",
      "name": "python",
      "nbconvert_exporter": "python",
      "pygments_lexer": "ipython3",
      "version": "3.8"
    }
  },
  "nbformat_minor": 4,
  "nbformat": 4,
  "cells": [
    {
      "cell_type": "code",
      "source": "import numpy as np\nimport scipy.stats as stats\nfrom scipy import stats",
      "metadata": {
        "trusted": true
      },
      "outputs": [],
      "execution_count": 1
    },
    {
      "cell_type": "code",
      "source": "d = np.array([175, 167, 154, 174, 178, 148, 160, 167, 169, 170])\nm = np.array([178, 165, 165, 173, 168, 155, 160, 164, 178, 175])",
      "metadata": {
        "trusted": true
      },
      "outputs": [],
      "execution_count": 20
    },
    {
      "cell_type": "code",
      "source": "x1 = np.mean(d)\nprint(f'x1 = {x1:}')\nx2 = np.mean(m)\nprint(f'x2 = {x2:}')\ndelta = x1 - x2\nprint(f'delta = {delta: .3f}')\nd1 = np.var(d, ddof=1)\nprint(f'D1 = {d1: .3f}')\nd2 = np.var(m, ddof=1)\nprint(f'D2 = {d2: .3f}')\nD = (d1 + d2) / 2\nprint(f'D = {D: .3f}')\nn1 = len(d)\nprint(f'n1 = {n1:}')\nn2 = len(m)\nprint(f'n2 = {n2:}')\nSd = np.sqrt(D / n1 + D / n2)\nprint(f'Sdelta = {Sd: .3f}')\nt = stats.t.ppf(0.975, n1 + n2 -2)\nprint(f't2.5% = {t: .3f}')",
      "metadata": {
        "trusted": true
      },
      "outputs": [
        {
          "name": "stdout",
          "text": "x1 = 166.2\nx2 = 168.1\ndelta = -1.900\nD1 =  91.067\nD2 =  60.100\nD =  75.583\nn1 = 10\nn2 = 10\nSdelta =  3.888\nt2.5% =  2.101\n",
          "output_type": "stream"
        }
      ],
      "execution_count": 25
    },
    {
      "cell_type": "code",
      "source": "left = delta - t * Sd\nright = delta + t * Sd\nprint(f'Interval = ({left: .3f};{right: .3f})')",
      "metadata": {
        "trusted": true
      },
      "outputs": [
        {
          "name": "stdout",
          "text": "interval = (-10.068; 6.268)\n",
          "output_type": "stream"
        }
      ],
      "execution_count": 28
    },
    {
      "cell_type": "code",
      "source": "",
      "metadata": {
        "trusted": true
      },
      "outputs": [],
      "execution_count": null
    }
  ]
}